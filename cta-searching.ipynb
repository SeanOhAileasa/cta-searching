{
 "cells": [
  {
   "cell_type": "code",
   "execution_count": null,
   "metadata": {},
   "outputs": [
    {
     "data": {
      "text/html": [
       "<script>Jupyter.notebook.kernel.restart()</script>"
      ]
     },
     "metadata": {},
     "output_type": "display_data"
    }
   ],
   "source": [
    "from IPython.core.display import display_html\n",
    "display_html(\"<script>Jupyter.notebook.kernel.restart()</script>\",raw=True)"
   ]
  },
  {
   "cell_type": "code",
   "execution_count": 1,
   "metadata": {},
   "outputs": [
    {
     "data": {
      "text/html": [
       "<style>.container { width:100% !important; }</style>"
      ],
      "text/plain": [
       "<IPython.core.display.HTML object>"
      ]
     },
     "metadata": {},
     "output_type": "display_data"
    },
    {
     "data": {
      "text/html": [
       "<style>.container { width:100% !important; }</style>"
      ],
      "text/plain": [
       "<IPython.core.display.HTML object>"
      ]
     },
     "metadata": {},
     "output_type": "display_data"
    }
   ],
   "source": [
    "from sys import path; path.insert(1,\"../src\");\n",
    "import fubar; from importlib import reload; reload(fubar);"
   ]
  },
  {
   "cell_type": "markdown",
   "metadata": {},
   "source": [
    "***\n",
    "< [GMIT Data Analytics](https://web.archive.org/web/20201029063153/https://www.gmit.ie/computer-science-and-applied-physics/higher-diploma-science-computing-data-analytics-ict) | [Home](https://github.com/SeanOhAileasa) | [README](https://github.com/SeanOhAileasa/cta-searching/blob/main/README.md) >\n",
    "\n",
    "[![GMIT](https://github.com/SeanOhAileasa/SeanOhAileasa/blob/master/rc/gmit.png?raw=true)](https://web.archive.org/web/20201029063153/https://www.gmit.ie/computer-science-and-applied-physics/higher-diploma-science-computing-data-analytics-ict)\n",
    "\n",
    "## Computational Thinking with Algorithms - Course Material 2021\n",
    "\n",
    "### Topic: [Searching](https://nbviewer.jupyter.org/github/SeanOhAileasa/cta-searching/blob/main/cta-searching.ipynb)\n",
    "***"
   ]
  },
  {
   "cell_type": "markdown",
   "metadata": {},
   "source": [
    "Course material for the ``Computational Thinking with Algorithms`` module (5 Credits) of the ``Higher Diploma in Science in Computing (Data Analytics) (H.Dip)`` programme (75 Credits) at **Galway-Mayo Institute of Technology (GMIT)**."
   ]
  },
  {
   "cell_type": "code",
   "execution_count": 2,
   "metadata": {},
   "outputs": [],
   "source": [
    "exit()"
   ]
  },
  {
   "cell_type": "markdown",
   "metadata": {},
   "source": [
    "<a id=\"top\"></a>\n",
    "***\n",
    "## Table of Contents\n",
    "***\n",
    "\n",
    "## [Notes](#notes)\n",
    "\n",
    "* [Lecture 1](#lecture-1)\n",
    "* [Linear Search](#pLinearSearch)\n",
    "* [Binary Search](#pBinarySearch)\n",
    "\n",
    "## [Abstract](#abstract)\n",
    "\n",
    "## [Introduction](#introduction)\n",
    "\n",
    "* [Search Problem](#searchproblem)\n",
    "    * [Criteria](#searchproblemCriteria)\n",
    "* [Performance](#performanceofSearchAlgorithms)\n",
    "    * [Pre-sorted](#pre-sorted)\n",
    "    \n",
    "## [Solution](#solution)\n",
    "\n",
    "* [Types](#TypesofSearchAlgorithms)\n",
    "    * [Linear Search](#linearSearch)\n",
    "        * [Implementation](#implementationLinearSearch)\n",
    "            * [Java](#javaLinear)\n",
    "    * [Binary Search](#binarySearch)\n",
    "        * [Implementation](#implementationBinarySearch)\n",
    "            * [Java (Iterative)](#javaBinaryIterative)\n",
    "            * [Java (Recursion)](#javaBinaryRecursion)\n",
    "\n",
    "## [Conclusion](#conclusion)"
   ]
  },
  {
   "cell_type": "markdown",
   "metadata": {},
   "source": [
    "***\n",
    "## END"
   ]
  },
  {
   "cell_type": "markdown",
   "metadata": {},
   "source": [
    "< [Table of Contents](#top) | [Introduction](#introduction) | [Solution](#solution) | [Conclusion](#conclusion) | [References](#references) >\n",
    "<a id=\"notes\"></a>\n",
    "***\n",
    "## Notes\n",
    "***"
   ]
  },
  {
   "cell_type": "markdown",
   "metadata": {},
   "source": [
    "- python does not have variables only names to references (name and variable used interchangeably [[realpython](http://web.archive.org/web/20210331063048/https://realpython.com/pointers-in-python)]"
   ]
  },
  {
   "cell_type": "markdown",
   "metadata": {},
   "source": [
    "|Terms|Abbreviated|\n",
    "|:------------------------- | :------------------------- |\n",
    "|size of the input instance|$n$|\n",
    "|collection or array|$C$|\n",
    "|element(s)|$E$|\n",
    "|target element|$t$|\n",
    "|target key|$k$|\n",
    "|collection index/position|$[\\space ]$|\n",
    "|left-hand side|LHS|\n",
    "|right-hand side|RHS|"
   ]
  },
  {
   "cell_type": "markdown",
   "metadata": {},
   "source": [
    "< [Table of Contents](#top) | [References](#references) >\n",
    "<a id=\"lecture-1\"></a>\n",
    "### Lecture 1\n",
    "***"
   ]
  },
  {
   "cell_type": "code",
   "execution_count": 1,
   "metadata": {},
   "outputs": [
    {
     "data": {
      "text/html": [
       "<style>.container { width:100% !important; }</style>"
      ],
      "text/plain": [
       "<IPython.core.display.HTML object>"
      ]
     },
     "metadata": {},
     "output_type": "display_data"
    }
   ],
   "source": [
    "from sys import path; path.insert(1,\"../src\")\n",
    "from fubar import fFile"
   ]
  },
  {
   "cell_type": "code",
   "execution_count": 2,
   "metadata": {},
   "outputs": [
    {
     "name": "stdout",
     "output_type": "stream",
     "text": [
      "# repository ./SeanOhAileasa\r\n",
      "def fFile(nParPath):\r\n",
      "    \"\"\"Start a file with its associated application.\r\n",
      "\r\n",
      "Input: nParPath\r\n",
      "Process: (os.path.realpath; os.startfile)\r\n",
      "Output: file opened with associated application\r\n",
      "\"\"\"\r\n",
      "    from os import path,startfile\r\n",
      "    return startfile(path.realpath(nParPath))\r\n",
      "# --- END ---\r\n"
     ]
    }
   ],
   "source": [
    "%%script bash\n",
    "grep -1 \"def fFile\" ../src/fubar.py -A 9"
   ]
  },
  {
   "cell_type": "code",
   "execution_count": 3,
   "metadata": {},
   "outputs": [],
   "source": [
    "# fFile(nParPath=\"./hide/10 Search Algorithms - 03-12-2017.mp4\")"
   ]
  },
  {
   "cell_type": "code",
   "execution_count": 4,
   "metadata": {},
   "outputs": [],
   "source": [
    "# fFile(nParPath=\"./hide/10_Search_Algorithms_-_03-12-2017.md\")"
   ]
  },
  {
   "cell_type": "code",
   "execution_count": 5,
   "metadata": {},
   "outputs": [],
   "source": [
    "exit()"
   ]
  },
  {
   "cell_type": "markdown",
   "metadata": {},
   "source": [
    "< [Table of Contents](#top) | [References](#references) >\n",
    "<a id=\"pLinearSearch\"></a>\n",
    "### Linear Search\n",
    "***"
   ]
  },
  {
   "cell_type": "code",
   "execution_count": 1,
   "metadata": {},
   "outputs": [
    {
     "data": {
      "text/html": [
       "<style>.container { width:100% !important; }</style>"
      ],
      "text/plain": [
       "<IPython.core.display.HTML object>"
      ]
     },
     "metadata": {},
     "output_type": "display_data"
    }
   ],
   "source": [
    "from sys import path; path.insert(1,\"../src\")\n",
    "from fubar import fFile"
   ]
  },
  {
   "cell_type": "code",
   "execution_count": 2,
   "metadata": {},
   "outputs": [
    {
     "name": "stdout",
     "output_type": "stream",
     "text": [
      "# repository ./SeanOhAileasa\r\n",
      "def fFile(nParPath):\r\n",
      "    \"\"\"Start a file with its associated application.\r\n",
      "\r\n",
      "Input: nParPath\r\n",
      "Process: (os.path.realpath; os.startfile)\r\n",
      "Output: file opened with associated application\r\n",
      "\"\"\"\r\n",
      "    from os import path,startfile\r\n",
      "    return startfile(path.realpath(nParPath))\r\n",
      "# --- END ---\r\n"
     ]
    }
   ],
   "source": [
    "%%script bash\n",
    "grep -1 \"def fFile\" ../src/fubar.py -A 9"
   ]
  },
  {
   "cell_type": "code",
   "execution_count": 3,
   "metadata": {},
   "outputs": [],
   "source": [
    "# fFile(nParPath=\"./hide/CTA - Week 3 - Linear Search - 05-02-2021.mp4\")"
   ]
  },
  {
   "cell_type": "code",
   "execution_count": 4,
   "metadata": {},
   "outputs": [],
   "source": [
    "# fFile(nParPath=\"./hide/CTA - Week 3 - Linear Search - 05-02-2021.md\")"
   ]
  },
  {
   "cell_type": "code",
   "execution_count": 5,
   "metadata": {},
   "outputs": [],
   "source": [
    "exit()"
   ]
  },
  {
   "cell_type": "markdown",
   "metadata": {},
   "source": [
    "< [Table of Contents](#top) | [References](#references) >\n",
    "<a id=\"pBinarySearch\"></a>\n",
    "### Binary Search\n",
    "***"
   ]
  },
  {
   "cell_type": "code",
   "execution_count": 1,
   "metadata": {},
   "outputs": [
    {
     "data": {
      "text/html": [
       "<style>.container { width:100% !important; }</style>"
      ],
      "text/plain": [
       "<IPython.core.display.HTML object>"
      ]
     },
     "metadata": {},
     "output_type": "display_data"
    }
   ],
   "source": [
    "from sys import path; path.insert(1,\"../src\")\n",
    "from fubar import fFile"
   ]
  },
  {
   "cell_type": "code",
   "execution_count": 2,
   "metadata": {},
   "outputs": [
    {
     "name": "stdout",
     "output_type": "stream",
     "text": [
      "# repository ./SeanOhAileasa\r\n",
      "def fFile(nParPath):\r\n",
      "    \"\"\"Start a file with its associated application.\r\n",
      "\r\n",
      "Input: nParPath\r\n",
      "Process: (os.path.realpath; os.startfile)\r\n",
      "Output: file opened with associated application\r\n",
      "\"\"\"\r\n",
      "    from os import path,startfile\r\n",
      "    return startfile(path.realpath(nParPath))\r\n",
      "# --- END ---\r\n"
     ]
    }
   ],
   "source": [
    "%%script bash\n",
    "grep -1 \"def fFile\" ../src/fubar.py -A 9"
   ]
  },
  {
   "cell_type": "code",
   "execution_count": 3,
   "metadata": {},
   "outputs": [],
   "source": [
    "# fFile(nParPath=\"./hide/CTA - Week 3 - Binary Search - 05-02-2021.mp4\")"
   ]
  },
  {
   "cell_type": "code",
   "execution_count": 4,
   "metadata": {},
   "outputs": [],
   "source": [
    "# fFile(nParPath=\"./hide/CTA - Week 3 - Binary Search - 05-02-2021.md\")"
   ]
  },
  {
   "cell_type": "code",
   "execution_count": 5,
   "metadata": {},
   "outputs": [],
   "source": [
    "exit()"
   ]
  },
  {
   "cell_type": "markdown",
   "metadata": {},
   "source": [
    "***\n",
    "## END"
   ]
  },
  {
   "cell_type": "markdown",
   "metadata": {},
   "source": [
    "< [Table of Contents](#top) | [Introduction](#introduction) | [Solution](#solution) | [Conclusion](#conclusion) | [References](#references) >\n",
    "<a id=\"abstract\"></a>\n",
    "***\n",
    "## Abstract\n",
    "***"
   ]
  },
  {
   "cell_type": "markdown",
   "metadata": {},
   "source": [
    "- searching is a very fundamental operation in computing [1]"
   ]
  },
  {
   "cell_type": "markdown",
   "metadata": {},
   "source": [
    "***\n",
    "## END"
   ]
  },
  {
   "cell_type": "markdown",
   "metadata": {},
   "source": [
    "< [Table of Contents](#top) | [Abstract](#abstract) | [Solution](#solution) | [Conclusion](#conclusion) | [References](#references) >\n",
    "<a id=\"introduction\"></a>\n",
    "***\n",
    "## Introduction\n",
    "***"
   ]
  },
  {
   "cell_type": "markdown",
   "metadata": {},
   "source": [
    "< [Table of Contents](#top) | [References](#references) >\n",
    "<a id=\"searchproblem\"></a>\n",
    "### Search Problem\n",
    "***"
   ]
  },
  {
   "cell_type": "markdown",
   "metadata": {},
   "source": [
    "- there are many examples of seaching in everyday life such as finding information on the web is a search problem - the search engine will give some mapping between a search key which is a string query that is entered with the information sought received afterward [1]"
   ]
  },
  {
   "cell_type": "markdown",
   "metadata": {},
   "source": [
    "- common search queries include finding a file or an application on a pc - querying a database is a search problem - the search problem relates to retrieving some information from a data structure (array - linked list - search trees - hash tables etc) based on a search key (search term or a search value) to find out if that exists in the data structure and if it does then what is its index/position within the collection (**collection or array is abbreviated C**) - using the SQL ``SELECT`` command is a search algorithm - the search algorithm underneath queries the data structure - any algorithm which solves the search problem is called a search algorithm [1]"
   ]
  },
  {
   "cell_type": "code",
   "execution_count": 1,
   "metadata": {},
   "outputs": [],
   "source": [
    "exit()"
   ]
  },
  {
   "cell_type": "markdown",
   "metadata": {},
   "source": [
    "< [Table of Contents](#top) | [References](#references) >\n",
    "<a id=\"searchproblemCriteria\"></a>\n",
    "###### Criteria\n",
    "***"
   ]
  },
  {
   "cell_type": "markdown",
   "metadata": {},
   "source": [
    "- there are two fundamental questions to answer about any particular $C$ [1]:"
   ]
  },
  {
   "cell_type": "markdown",
   "metadata": {},
   "source": [
    "1. existence - does the $C$ contain a target element (**target element is abbreviated t**) - given some $C$ want to know whether $t$ actually exists - the existence criteria response would be ``True`` if an element (**element(s) is abbreviated E**) exists in the $C$ that matches the desired $t$ or return ``False`` if this is not the case [1]"
   ]
  },
  {
   "cell_type": "markdown",
   "metadata": {},
   "source": [
    "2. associative lookup - return information associated in the $C$ with a target key value (**target key value is abbreviated k**) - a key is usually associated with some complex structure called a value - the lookup will retrieve or replace this value - querying a table of employees using the SQL ``SELECT`` to find the employee with number ``12345`` in order to return that employees details or maybe want to find where that record is stored to do some other operations instead using ``UPDATE`` [1] "
   ]
  },
  {
   "cell_type": "markdown",
   "metadata": {},
   "source": [
    "- in terms of correctness (algorithm returns the correct result) should return ``True`` or the index/position of the requested $k$ if it exists in the $C$ or return ``-1`` or ``null`` or ``False`` if it does not exist in the $C$ [1]"
   ]
  },
  {
   "cell_type": "code",
   "execution_count": 1,
   "metadata": {},
   "outputs": [],
   "source": [
    "exit()"
   ]
  },
  {
   "cell_type": "markdown",
   "metadata": {},
   "source": [
    "< [Table of Contents](#top) | [References](#references) >\n",
    "<a id=\"performanceofSearchAlgorithms\"></a>\n",
    "### Performance\n",
    "***"
   ]
  },
  {
   "cell_type": "markdown",
   "metadata": {},
   "source": [
    "- analysing the performance of a sorting algorithm is based on how many comparisons or insertions or swaps of $E$ were made - performance of a search algorithm is based on how many operations are performed - the searching problem looks at how many $E$ the algorithm inspects at runtime as it processes some query - the number of operations will increase as the input size (**size of the input instance is abbreviated n**) increases - increasing the value of $n$ for any searching algorithm no matter what its time complexity is would result in an increase in the running time or the number of operations required for the algorithm to run [1]"
   ]
  },
  {
   "cell_type": "markdown",
   "metadata": {},
   "source": [
    "- there will be different relationships between $n$ and the expected running time or the expected number of operations - constant or $O(n)$ time is the worst case for any reasonable searching algorithm used in practice and corresponds to inspecting each $E$ in the $C$ exactly once (linear search algorithm) - $O(n)$ or linear time complexity is the lower bound on possible performance [1]"
   ]
  },
  {
   "cell_type": "code",
   "execution_count": 1,
   "metadata": {},
   "outputs": [],
   "source": [
    "exit()"
   ]
  },
  {
   "cell_type": "markdown",
   "metadata": {},
   "source": [
    "< [Table of Contents](#top) | [References](#references) >\n",
    "<a id=\"pre-sorted\"></a>\n",
    "###### Pre-sorted\n",
    "***"
   ]
  },
  {
   "cell_type": "markdown",
   "metadata": {},
   "source": [
    "- total ordering of $E$ in a $C$ is facilitated by knowing a priori (beforehand) that a $C$ is sorted or can be sorted according to the definition of a comparator function (some definition of $<$) can improve the performance of search queries - if $E$ $i$ and $E$ $j$ are at the indices/positions (**collection index/position is abbreviated using $[\\space ]$**) $i$ and $j$ then the value at $E$ $i$ must be less than the value at $E$ $j$ if $E$ $i$ is to be positioned before $E$ $j$ [1]"
   ]
  },
  {
   "cell_type": "markdown",
   "metadata": {},
   "source": [
    "- there is trade-offs/costs associated with maintaining a sorted $C$ especially in use cases whereby frequent insertions or removal of $k$ or $E$ are expected - the trade-off is between the cost of maintaining a sorted $C$ versus the increased performance as a result of maintaining sorted data - worth pre-sorting the data if it will be searched often and if it is expected the data will not be updated very frequently (using maybe binary search instead of linear search in that instance) [1]"
   ]
  },
  {
   "cell_type": "markdown",
   "metadata": {},
   "source": [
    "- several types of search operations will become very trivial when it is assumed that a $C$ is sorted or can be sorted - consider economic data of maybe the salary paid to all employees of a company - got a dataset and it has the list of all the salaries that are paid to each employee - if it can be assumed before time that this data is sorted in some order (ascending or descending) according to some definition of a comparative function then it becomes trivial to find values such as the minimum which would be $[\\space 0\\space ]$ in the dataset or the maximum which would be the final index/position in the dataset - the median would be the middle index/position in the dataset and the quartile would be the indices/positions at one quarter and three quarters - those salary points could be easily retrieved from the dataset in constant or $O(1)$ time if that data is sorted before applying the search operation [1]"
   ]
  },
  {
   "cell_type": "markdown",
   "metadata": {},
   "source": [
    "- presuming to know the data is sorted beforehand and knowing the $n$ of the dataset then can apply more advanced search algorithms [1]"
   ]
  },
  {
   "cell_type": "code",
   "execution_count": 1,
   "metadata": {},
   "outputs": [],
   "source": [
    "exit()"
   ]
  },
  {
   "cell_type": "markdown",
   "metadata": {},
   "source": [
    "***\n",
    "## END"
   ]
  },
  {
   "cell_type": "markdown",
   "metadata": {},
   "source": [
    "< [Table of Contents](#top) | [Abstract](#abstract) | [Introduction](#introduction) | [Conclusion](#conclusion) | [References](#references) >\n",
    "<a id=\"solution\"></a>\n",
    "***\n",
    "## Solution\n",
    "***"
   ]
  },
  {
   "cell_type": "markdown",
   "metadata": {},
   "source": [
    "< [Table of Contents](#top) | [References](#references) >\n",
    "<a id=\"TypesofSearchAlgorithms\"></a>\n",
    "### Types\n",
    "***"
   ]
  },
  {
   "cell_type": "markdown",
   "metadata": {},
   "source": [
    "- comparison type search algorithms eliminate records out of the search space based on some comparisons between record keys [1]"
   ]
  },
  {
   "cell_type": "markdown",
   "metadata": {},
   "source": [
    "- digital type search algorithms work based on the properties of the digits which are contained in record keys [1] "
   ]
  },
  {
   "cell_type": "markdown",
   "metadata": {},
   "source": [
    "- hash-based type search algorithms (hash map) is a data structure which maps keys to records based on some hashing function [1] "
   ]
  },
  {
   "cell_type": "markdown",
   "metadata": {},
   "source": [
    "- as with sorting algorithms there is no universal best algorithm for every possible use case so the most appropriate search algorithm to use for a particular $n$ and for a particular problem type will often depend on the type of data structure used underneath and it may depend also on any a priori knowledge about the data [1]"
   ]
  },
  {
   "cell_type": "code",
   "execution_count": 1,
   "metadata": {},
   "outputs": [],
   "source": [
    "exit()"
   ]
  },
  {
   "cell_type": "markdown",
   "metadata": {},
   "source": [
    "< [Table of Contents](#top) | [References](#references) >\n",
    "<a id=\"linearSearch\"></a>\n",
    "###### Linear Search\n",
    "***"
   ]
  },
  {
   "cell_type": "markdown",
   "metadata": {},
   "source": [
    "- linear search (also known as sequential search) is the simplest known searching algorithm and is trivial to implement [1]"
   ]
  },
  {
   "cell_type": "markdown",
   "metadata": {},
   "source": [
    "- constitutes a brute force approach to locate a single $t$ in a $C$ - normally referring to brute force in terms of algorithms is to refer to inefficiency - even though linear search is a brute force algorithm it still could have some applications in the real-world and could be useful in certain instances [1] "
   ]
  },
  {
   "cell_type": "markdown",
   "metadata": {},
   "source": [
    "- the procedure with linear search is to begin at $[\\space 0\\space ]$ and inspect each $E$ in turn until the $t$ has been found or until all $E$ in the $C$ are iterated without locating the $t$ [1]"
   ]
  },
  {
   "cell_type": "markdown",
   "metadata": {},
   "source": [
    "- an appropriate algorithm to use when it is not known whether $n$ is sorted beforehand although if known then binary search would be a better choice - broadly applicable search algorithm in that there is no assumptions made about the type of $n$ data - also appropriate to use when the $C$ to be searched is small (maybe 5 or 10 or 20 $E$) [1] "
   ]
  },
  {
   "cell_type": "markdown",
   "metadata": {},
   "source": [
    "- the only requirement when using linear search is the presence of a match function - a match function is some definition of equals (or equivalent to) which will determine if the $t$ being searched matches any $E$ in the $C$ [1]"
   ]
  },
  {
   "cell_type": "markdown",
   "metadata": {},
   "source": [
    "- perhaps need to frequently search through a $C$ and locate some $t$ - knowing that the $C$ may or may not be ordered or maybe its a $C$ where data is being added and removed or updated at quite a large rate then that would be a decent use case for linear search - without any further knowledge about the information that could be in the $C$ then can use linear search to get the job done in a brute force manner - performance is linear $O(n)$ time so its not the most efficient search algorithm by a longshot but still reasonably quick [1]"
   ]
  },
  {
   "cell_type": "markdown",
   "metadata": {},
   "source": [
    "- it is the only search algorithm which may be used if the $C$ is accessible only through an iterator and by an iterator is refer to iterating through the $C$ or the data structure one $E$ at a time - maybe have a data structure where its not possible to just go into a specific index and check but forced to iterate through everything then linear search is the only algorithm to use in that instance [1]"
   ]
  },
  {
   "cell_type": "markdown",
   "metadata": {},
   "source": [
    "- linear search can achieve constant $O(1)$ time in the best case and linear $O(n)$ time in the average and worst cases - if its assumed that its equally likely that the $t$ could be found at any index/position then if the $n$ of the $C$ is doubled should also expect that the running time would approximately double also given linear $O(n)$ running time - so the best case would occur if the $E$ sought occurs at $[\\space 0\\space ]$ and the worst case would occur when the $E$ sought is at the last index/position therefore the average case occurs when the $E$ is somewhere in the middle so on average would expect to have $\\frac{n}{2}$ operations to complete a linear search but still call that $O(n)$ time because the divided by two is a constant [1]"
   ]
  },
  {
   "cell_type": "markdown",
   "metadata": {},
   "source": [
    "- linear search has constant space complexity (in-place) [1]"
   ]
  },
  {
   "cell_type": "code",
   "execution_count": 1,
   "metadata": {},
   "outputs": [],
   "source": [
    "exit()"
   ]
  },
  {
   "cell_type": "markdown",
   "metadata": {},
   "source": [
    "< [Table of Contents](#top) | [References](#references) >\n",
    "<a id=\"implementationLinearSearch\"></a>\n",
    "###### Implementation\n",
    "***"
   ]
  },
  {
   "cell_type": "markdown",
   "metadata": {},
   "source": [
    "- linear search iterates $E$ by $E$ through the $C$ comparing $t$ with the current $[\\space E\\space ]$ - two variants: i) return ``True`` or ``False``; ii) return the $[\\space t\\space ]$ allowing the retrieval of the $E$ to maybe modify or do something with it [2]"
   ]
  },
  {
   "cell_type": "markdown",
   "metadata": {},
   "source": [
    "- doing the same operation to every $E$ in the $C$ requires repetition (iterating through the $C$ repeating a portion of code via a loop construct using a ``for`` loop) and comparison (to compare the $t$ with every $E$ in the $C$ via a conditional construct using an ``if`` statement) [2]\n",
    "\n",
    "```\n",
    "for every element in array:\n",
    "\tif target == element\n",
    "\t\treturn true\n",
    "\treturn false\n",
    "```"
   ]
  },
  {
   "cell_type": "code",
   "execution_count": 1,
   "metadata": {},
   "outputs": [
    {
     "data": {
      "text/html": [
       "<style>.container { width:100% !important; }</style>"
      ],
      "text/plain": [
       "<IPython.core.display.HTML object>"
      ]
     },
     "metadata": {},
     "output_type": "display_data"
    }
   ],
   "source": [
    "from sys import path; path.insert(1,\"../src\")\n",
    "from fubar import fLinearSearch"
   ]
  },
  {
   "cell_type": "code",
   "execution_count": 2,
   "metadata": {
    "scrolled": true
   },
   "outputs": [
    {
     "name": "stdout",
     "output_type": "stream",
     "text": [
      "# repository ./cta-searching\r\n",
      "def fLinearSearch(nCollection,nTarget):\r\n",
      "    \"\"\"Linear search implementation.\r\n",
      "    \r\n",
      "Input: nCollection; nTarget\r\n",
      "Process: iterate element by element through Input=nCollection comparing Input=nTarget\r\n",
      "Output: index of the target element or -1\r\n",
      "\"\"\"\r\n",
      "    for nIndex in range(len(nCollection)):\r\n",
      "        if nCollection[nIndex]==nTarget:\r\n",
      "            return nIndex\r\n",
      "    return -1\r\n",
      "# --- END ---\r\n"
     ]
    }
   ],
   "source": [
    "%%script bash\n",
    "grep -1 \"def fLinearSearch\" ../src/fubar.py -A 11"
   ]
  },
  {
   "cell_type": "code",
   "execution_count": 3,
   "metadata": {},
   "outputs": [
    {
     "data": {
      "text/plain": [
       "4"
      ]
     },
     "execution_count": 3,
     "metadata": {},
     "output_type": "execute_result"
    }
   ],
   "source": [
    "fLinearSearch(nCollection=[7,5,2,3,1],nTarget=1)"
   ]
  },
  {
   "cell_type": "code",
   "execution_count": 4,
   "metadata": {},
   "outputs": [
    {
     "data": {
      "text/plain": [
       "-1"
      ]
     },
     "execution_count": 4,
     "metadata": {},
     "output_type": "execute_result"
    }
   ],
   "source": [
    "fLinearSearch(nCollection=[7,5,2,3,1],nTarget=4)"
   ]
  },
  {
   "cell_type": "markdown",
   "metadata": {},
   "source": [
    "- an unsorted $C$ requires going through every $E$ in the $C$ because its not possible to infer what the next $E$ is after the current $E$ [2]"
   ]
  },
  {
   "cell_type": "markdown",
   "metadata": {},
   "source": [
    "- a sorted $C$ allows assumptions to be made in order to make minor performance optimisations - if an $E$ is bigger than the $t$ then the loop has gone past where the $t$ should be in the $C$ meaning that the $t$ does not exist [2] "
   ]
  },
  {
   "cell_type": "markdown",
   "metadata": {},
   "source": [
    "- huge optimizations are to be made from sorted data - sorting the $C$ before performing the search can optimise the searching code - many different searching algorithms are reliant on the data being sorted and are optimised for different kinds of data [2]"
   ]
  },
  {
   "cell_type": "code",
   "execution_count": 5,
   "metadata": {},
   "outputs": [],
   "source": [
    "exit()"
   ]
  },
  {
   "cell_type": "markdown",
   "metadata": {},
   "source": [
    "< [Table of Contents](#top) | [References](#references) >\n",
    "<a id=\"javaLinear\"></a>\n",
    "###### Java\n",
    "***"
   ]
  },
  {
   "cell_type": "markdown",
   "metadata": {},
   "source": [
    "- ``linearSearch`` is a ``static`` method which returns an ``int`` - within the parentheses declaring two local variables (input parameters): i) $C$ of integers ``a`` thats going to be the $n$ and; ii) another integer called ``value`` being the $t$ [1]\n",
    "\n",
    "```java\n",
    "static int linearSearch(int[] a, int value){\n",
    "```"
   ]
  },
  {
   "cell_type": "markdown",
   "metadata": {},
   "source": [
    "- single ``for`` loop with integer loop counter ``i`` initially assigned ``0`` and while ``i`` being less than ``a.length`` then ``i++`` increases the value of ``i`` by one at each iteration [1]\n",
    "\n",
    "```java\n",
    "static int linearSearch(int[] a, int value){\n",
    "\tfor(int i=0; i<a.length; i++){\n",
    "```"
   ]
  },
  {
   "cell_type": "markdown",
   "metadata": {},
   "source": [
    "- within the ``for`` loop an ``if`` statement tests if the value which is stored at ``a[i]`` is equal to the $t$ and if that condition evaluates to ``True`` then return current $[\\space t\\space ]$ within the $C$ - continues through each $E$ in that input $C$ one by one - if every $E$ is checked and has not returned the $[\\space i\\space ]$ which corresponds to that $t$ therefore that $t$ does not exist in the $C$ and returns ``-1`` (flag to signify the $t$ does not exist in the $C$) [1] \n",
    "\n",
    "```java\n",
    "static int linearSearch(int[] a, int value){\n",
    "\tfor(int i=0; i<a.length; i++){\n",
    "\t\tif(a[i]==value){\n",
    "\t\t\t// return index if the value exists\n",
    "\t\t\treturn i;\n",
    "\t\t}\n",
    "\t}\n",
    "\t// return -1 if the value does not exist\n",
    "\treturn -1;\n",
    "}\n",
    "```"
   ]
  },
  {
   "cell_type": "code",
   "execution_count": 1,
   "metadata": {},
   "outputs": [],
   "source": [
    "exit()"
   ]
  },
  {
   "cell_type": "markdown",
   "metadata": {},
   "source": [
    "< [Table of Contents](#top) | [References](#references) >\n",
    "<a id=\"binarySearch\"></a>\n",
    "###### Binary Search\n",
    "***"
   ]
  },
  {
   "cell_type": "markdown",
   "metadata": {},
   "source": [
    "- linear search has linear $n$ time complexity - runs in time $n$ or linear time if the $E$ is not found or runs in time $\\frac{n}{2}$ on average if the $E$ is going to be found [1]"
   ]
  },
  {
   "cell_type": "markdown",
   "metadata": {},
   "source": [
    "- improving on the performance of linear search requires a priori (beforehand) knowledge of the probability distribution of searching for different possible keys or different possible $t$ which could be stored in the $C$ - could organise the $C$ in such a way that the most searched for (or most likely) $E$ would appear at the start of the $C$ bootstrapping the performance of linear search making it faster - could be very impractical to measure the probability distribution over search queries in such a way so another option is to make an assumption that the $C$ data could be sorted according to the definition of a comparator function - a sorted $C$ would allow the application of other faster searching algorithms such as binary search [1]"
   ]
  },
  {
   "cell_type": "markdown",
   "metadata": {},
   "source": [
    "- considering the real-world example of looking up a persons name in a phone book or a word in a dictionary - most people would grab the middle to see what the letter is and decide if the name/word sought is to the left or the right - maybe its to the left so disregarding the right and then considering whats left - picking around the middle again to check if its to the left or the right - this time its in the right portion so throwing away the second half and the first quarter and left with the second quarter - considering that same process again and again by halving whats left and going for either the left or the right half until ending up in the correct place - looking up a name in a phone book or a word in a dictionary is to implement the binary search algorithm [1]"
   ]
  },
  {
   "cell_type": "markdown",
   "metadata": {},
   "source": [
    "- better than linear $n$ running time is achievable if and only if the data is sorted in some way according to the definition of a comparateur function - given $[\\space i\\space ]$ and $[\\space j\\space ]$ the $E$ at $[\\space i\\space ]$ is less than the $E$ at $[\\space j\\space ]$ if and only if the $E$ $i$ is less than $E$ $j$ [1]"
   ]
  },
  {
   "cell_type": "markdown",
   "metadata": {},
   "source": [
    "- binary search will deliver better performance than linear search because it starts with a $C$ whose $E$ are already sorted - as with the phonebook or dictionary example binary search divides the sorted $C$ into halves until the $t$ is found or until it is determined that the $t$ does not exist in that $C$ [1]"
   ]
  },
  {
   "cell_type": "markdown",
   "metadata": {},
   "source": [
    "- while binary search divides the $C$ approximately in half it is important to note it does not have to be exactly in half (just approximately in half) and uses whole integer division - it is appropriate if dividing a number that it does not divide evenly (looking at the whole integer division) [1] "
   ]
  },
  {
   "cell_type": "code",
   "execution_count": 1,
   "metadata": {},
   "outputs": [
    {
     "data": {
      "text/plain": [
       "2"
      ]
     },
     "execution_count": 1,
     "metadata": {},
     "output_type": "execute_result"
    }
   ],
   "source": [
    "5//2 # floor division - disregard remainder"
   ]
  },
  {
   "cell_type": "code",
   "execution_count": 2,
   "metadata": {},
   "outputs": [
    {
     "data": {
      "text/plain": [
       "2"
      ]
     },
     "execution_count": 2,
     "metadata": {},
     "output_type": "execute_result"
    }
   ],
   "source": [
    "len([1,2,3,4,5])//2"
   ]
  },
  {
   "cell_type": "markdown",
   "metadata": {},
   "source": [
    "- in binary search an index/position is chosen that cuts the remaining portion of the $C$ in half: i) with each recursive call made to a recursive binary search or; ii) with each iteration in the loop to an iterative binary search - the process is repeated until either the $t$ is found or until a subarray of size one is reached which would lead to the base cases in recursion or to termination of a while loop [1]"
   ]
  },
  {
   "cell_type": "markdown",
   "metadata": {},
   "source": [
    "- starting with a $C$ of size $n$ can chop in half $log_{2}\\space n$ times - a binary search has got a logarithmic $log\\space n$ time complexity in the worst and average cases and constant $O(1)$ time complexity in the best case - the best case would occur if dividing the $C$ in two then to find that at the first middle index picked actually contained the $t$ giving a constant $O(1)$ time complexity - just one operation essentially is all that would be required neglecting constant factors [1]"
   ]
  },
  {
   "cell_type": "markdown",
   "metadata": {},
   "source": [
    "- a $C$ of $n=1000$ would be approximately 100 times faster using binary search when compared with linear search because $2^{10}=1000$ when neglecting constant factors [1]"
   ]
  },
  {
   "cell_type": "markdown",
   "metadata": {},
   "source": [
    "- binary search has a logarithmic $log\\space n$ time complexity - linear $n$ time complexity is pretty good but logarithmic $log\\space n$ is even better [1]"
   ]
  },
  {
   "cell_type": "markdown",
   "metadata": {},
   "source": [
    "![growth-functions](https://github.com/SeanOhAileasa/SeanOhAileasa/blob/master/rc/cta/analysing/growth-functions.png?raw=true)\n",
    "\n",
    "***(Image) P. Mannion, \"03 Analysing Algorithms Part 1,\" GMIT, October 2017.***"
   ]
  },
  {
   "cell_type": "markdown",
   "metadata": {},
   "source": [
    "- binary search has constant space complexity (in-place) [1]"
   ]
  },
  {
   "cell_type": "code",
   "execution_count": 3,
   "metadata": {},
   "outputs": [],
   "source": [
    "exit()"
   ]
  },
  {
   "cell_type": "markdown",
   "metadata": {},
   "source": [
    "< [Table of Contents](#top) | [References](#references) >\n",
    "<a id=\"implementationBinarySearch\"></a>\n",
    "###### Implementation\n",
    "***"
   ]
  },
  {
   "cell_type": "markdown",
   "metadata": {},
   "source": [
    "- often referred to as binary chop because it cuts the $C$ in half [3]"
   ]
  },
  {
   "cell_type": "markdown",
   "metadata": {},
   "source": [
    "- the midpoint is calculated as the distance from the start point (lowest index/position) and the end point (highest index/position) [3]"
   ]
  },
  {
   "cell_type": "markdown",
   "metadata": {},
   "source": [
    "- to check if the $t$ exists binary search chops the $C$ in half checking applicable partition [3]"
   ]
  },
  {
   "cell_type": "markdown",
   "metadata": {},
   "source": [
    "- repeating the process by chopping in half via repetition [3]\n",
    "\n",
    "```\n",
    "input sorted collection \n",
    "initialise startPoint=0\n",
    "initialise endPoint=0\n",
    "repeat until startPoint>=endPoint\n",
    "\tinitialise midpoint=(startPoint+endPoint)/2\n",
    "\tchop the array in half at midpoint\n",
    "\t\tlook at the target portion\n",
    "\t\t\tif target found return index/position\n",
    "if target not found return -1\n",
    "```"
   ]
  },
  {
   "cell_type": "code",
   "execution_count": 1,
   "metadata": {},
   "outputs": [
    {
     "data": {
      "text/html": [
       "<style>.container { width:100% !important; }</style>"
      ],
      "text/plain": [
       "<IPython.core.display.HTML object>"
      ]
     },
     "metadata": {},
     "output_type": "display_data"
    }
   ],
   "source": [
    "from sys import path; path.insert(1,\"../src\")\n",
    "from fubar import fBinarySearchIterative"
   ]
  },
  {
   "cell_type": "code",
   "execution_count": 2,
   "metadata": {},
   "outputs": [
    {
     "name": "stdout",
     "output_type": "stream",
     "text": [
      "# repository ./cta-searching\r\n",
      "def fBinarySearchIterative(nParCollection,nParTarget):\r\n",
      "    \"\"\"Binary search iterative implementation.\r\n",
      "    \r\n",
      "Input: nParCollection; nParTarget\r\n",
      "Process: chopping Input=nParCollection in half comparing element to Input=nParTarget \r\n",
      "Output: index of the target element or -1\r\n",
      "\"\"\"\r\n",
      "    nLeft,nRight=0,len(nParCollection)-1\r\n",
      "    while(nRight>=nLeft):\r\n",
      "        nMidpoint=(nLeft+nRight)//2\r\n",
      "        if (nParCollection[nMidpoint]==nParTarget):\r\n",
      "            return nMidpoint\r\n",
      "        if (nParCollection[nMidpoint]<nParTarget):\r\n",
      "            nLeft=nMidpoint+1 # chopping right partition\r\n",
      "        if (nParCollection[nMidpoint]>nParTarget):\r\n",
      "            nRight=nMidpoint-1 # chopping left partition\r\n",
      "    return -1\r\n",
      "# --- END ---\r\n"
     ]
    }
   ],
   "source": [
    "%%script bash\n",
    "grep -1 \"def fBinarySearchIterative\" ../src/fubar.py -A 17"
   ]
  },
  {
   "cell_type": "code",
   "execution_count": 3,
   "metadata": {},
   "outputs": [],
   "source": [
    "nCollection=[7,5,2,3,1]; nCollection.sort() # sorting in-place"
   ]
  },
  {
   "cell_type": "code",
   "execution_count": 4,
   "metadata": {},
   "outputs": [
    {
     "data": {
      "text/plain": [
       "0"
      ]
     },
     "execution_count": 4,
     "metadata": {},
     "output_type": "execute_result"
    }
   ],
   "source": [
    "fBinarySearchIterative(nParCollection=nCollection,nParTarget=1)"
   ]
  },
  {
   "cell_type": "code",
   "execution_count": 5,
   "metadata": {},
   "outputs": [
    {
     "data": {
      "text/plain": [
       "-1"
      ]
     },
     "execution_count": 5,
     "metadata": {},
     "output_type": "execute_result"
    }
   ],
   "source": [
    "fBinarySearchIterative(nParCollection=nCollection,nParTarget=4)"
   ]
  },
  {
   "cell_type": "markdown",
   "metadata": {},
   "source": [
    "&#x1F6A7;\n",
    "```python\n",
    "# %% writefile -a ../src/fubar.py\n",
    "# repository ./cta-searching\n",
    "def fBinarySearchRecursive(nParCollection,nParLeft,nParRight,nParTarget):\n",
    "    \"\"\"Binary search recursive implementation.\n",
    "    \n",
    "Input:\n",
    "Process:\n",
    "Output:\n",
    "\"\"\"\n",
    "# --- END ---\n",
    "```\n",
    "&#x1F6A7;"
   ]
  },
  {
   "cell_type": "markdown",
   "metadata": {},
   "source": [
    "- the binary search algorithm explicitly only works on sorted data - capitalising on the fact that the $C$ is sorted can be exploited in order to search it more effectively [3]"
   ]
  },
  {
   "cell_type": "markdown",
   "metadata": {},
   "source": [
    "- linear search iterates $E$ by $E$ through the $C$ comparing $t$ with the current $[\\space E\\space ]$ whereas binary search cutting the $C$ in half reducing the number of comparison operations - comparisons can be expensive computations so by cutting the amount of comparisons in half introduces further optimizations over linear search [3]"
   ]
  },
  {
   "cell_type": "code",
   "execution_count": 6,
   "metadata": {},
   "outputs": [],
   "source": [
    "exit()"
   ]
  },
  {
   "cell_type": "markdown",
   "metadata": {},
   "source": [
    "< [Table of Contents](#top) | [References](#references) >\n",
    "<a id=\"javaBinaryIterative\"></a>\n",
    "###### Java (Iterative)\n",
    "***"
   ]
  },
  {
   "cell_type": "markdown",
   "metadata": {},
   "source": [
    "- ``binarySearch`` is a static method which returns an ``int`` which will either be the $[\\space t\\space ]$ if contained in the $C$ or ``-1`` if the $t$ does not exist in the $C$ - within the parentheses declaring two local variables (input parameters): i) $C$ of integers ``a`` thats going to be the $n$ and; ii) another integer called ``target`` being the $t$ [1]\n",
    "\n",
    "```java\n",
    "static int binarySearch(int []a, int target){\n",
    "```"
   ]
  },
  {
   "cell_type": "markdown",
   "metadata": {},
   "source": [
    "- declaring local variables ``left`` and ``right`` to help out with the binary search algorithm - ``left`` (initially assigned ``0``) is the leftmost $[\\space E\\space ]$ in the partition being searched by binary search and ``right`` (initially assigned the length of the $C$ minus one) is the rightmost $[\\space E\\space ]$ in the partition being searched by binary search - initially the partition to search for the $t$ is the entire $C$ - making subpartitions out of the entire $C$ and hopefully eliminate some of that search space [1]\n",
    "\n",
    "```java\n",
    "static int binarySearch(int []a, int target){\n",
    "    int left=0;\n",
    "    int right=a.length-1;\n",
    "```"
   ]
  },
  {
   "cell_type": "markdown",
   "metadata": {},
   "source": [
    "- the ``while`` loop condition is while ``right`` is greater than or equal to ``left`` - keeps running so long as the rightmost $E$ is greater than or equal to the leftmost $E$ (as long as there are $E$ left in the partition to consider) - obviously the last iteration that can happen of this ``while`` loop will be for the case where the left $[\\space E\\space]$ and the right $[\\space E\\space ]$ are equal and that will correspond to the case where there is just one $E$ left in the partition under consideration [1] \n",
    "\n",
    "```java\n",
    "static int binarySearch(int []a, int target){\n",
    "    int left=0;\n",
    "    int right=a.length-1;\n",
    "    while(right >= left){\n",
    "```"
   ]
  },
  {
   "cell_type": "markdown",
   "metadata": {},
   "source": [
    "- calculating the middle $E$ in the partition with the full $C$ is under consideration - considering every $E$ so the partition will be created around the midpoint (approximate midpoint) and that will be calculated as $m$ the leftmost index/position and the rightmost index/position summed together and divided by two [1]\n",
    "\n",
    "```java\n",
    "static int binarySearch(int []a, int target){\n",
    "    int left=0;\n",
    "    int right=a.length-1;\n",
    "    while(right >= left){\n",
    "        int m=(left+right)/2;\n",
    "```"
   ]
  },
  {
   "cell_type": "markdown",
   "metadata": {},
   "source": [
    "- checking if the $E$ which is stored at $C$ $[\\space m\\space ]$ is equal to the $t$ - if so return the $[\\space m\\space ]$ (middle of the partition) being the $[\\space t\\space ]$ [1]\n",
    "\n",
    "```java\n",
    "static int binarySearch(int []a, int target){\n",
    "    int left=0;\n",
    "    int right=a.length-1;\n",
    "    while(right >= left){\n",
    "        int m=(left+right)/2;\n",
    "        if (a[m]==target){\n",
    "            return m; // index/position value exists\n",
    "        }\n",
    "```"
   ]
  },
  {
   "cell_type": "markdown",
   "metadata": {},
   "source": [
    "- if the $t$ is not found at $[\\space m\\space ]$ then the next step is to check if the $E$ at $[\\space m\\space ]$ is less than the $t$ - if so then disregarding everything which is on the LHS of the $[\\space m\\space ]$ because everything below $C$ $[\\space m\\space ]$ is less than the $t$ therefore its of no interest anymore - half of the $C$ is now eliminated with binary search - adding one to ``left`` disregards $[\\space m\\space ]$  and everything to the left [1]\n",
    "\n",
    "```java\n",
    "static int binarySearch(int []a, int target){\n",
    "    int left=0;\n",
    "    int right=a.length-1;\n",
    "    while(right >= left){\n",
    "        int m=(left+right)/2;\n",
    "        if (a[m]==target){\n",
    "            return m; // index/position value exists\n",
    "        }\n",
    "        if (a[m]<target){\n",
    "            left=m+1;\n",
    "        }\n",
    "```"
   ]
  },
  {
   "cell_type": "markdown",
   "metadata": {},
   "source": [
    "- the next if statement essentially says the same thing but its the opposite case - if the $t$ is not found then by the end of the ``while`` loop have either updated the ``left`` or the ``right`` index/position [1]\n",
    "\n",
    "```java\n",
    "static int binarySearch(int []a, int target){\n",
    "    int left=0;\n",
    "    int right=a.length-1;\n",
    "    while(right >= left){\n",
    "        int m=(left+right)/2;\n",
    "        if (a[m]==target){\n",
    "            return m; // index/position value exists\n",
    "        }\n",
    "        if (a[m]<target){\n",
    "            left=m+1;\n",
    "        }\n",
    "        if (a[m]>target){\n",
    "            right=m-1;\n",
    "        }\n",
    "    }\n",
    "```"
   ]
  },
  {
   "cell_type": "markdown",
   "metadata": {},
   "source": [
    "- starting the ``while`` loop again decreases the size of the partition by disregarding approximately half of it every time - this process will continue until the $t$ is found at $[\\space m\\space ]$ or if the $t$ is not found then the condition ``right >= left`` will not be ``True`` and so the $E$ at ``right`` will eventually become lower than the $E$ at ``left`` resulting in the ``while`` loop terminating because the loop condition is broken returning ``-1`` (flag to signify $t$ does not exist) [1]\n",
    "\n",
    "```java\n",
    "static int binarySearch(int []a, int target){\n",
    "    int left=0;\n",
    "    int right=a.length-1;\n",
    "    while(right >= left){\n",
    "        int m=(left+right)/2;\n",
    "        if (a[m]==target){\n",
    "            return m; // index/position value exists\n",
    "        }\n",
    "        if (a[m]<target){\n",
    "            left=m+1;\n",
    "        }\n",
    "        if (a[m]>target){\n",
    "            right=m-1;\n",
    "        }\n",
    "    }\n",
    "    return -1; // target not exist \n",
    "```"
   ]
  },
  {
   "cell_type": "code",
   "execution_count": 1,
   "metadata": {},
   "outputs": [],
   "source": [
    "exit()"
   ]
  },
  {
   "cell_type": "markdown",
   "metadata": {},
   "source": [
    "< [Table of Contents](#top) | [References](#references) >\n",
    "<a id=\"javaBinaryRecursion\"></a>\n",
    "###### Recursion\n",
    "***"
   ]
  },
  {
   "cell_type": "markdown",
   "metadata": {},
   "source": [
    "- any iterative algorithm could also be implemented as a recursive algorithm [1]"
   ]
  },
  {
   "cell_type": "markdown",
   "metadata": {},
   "source": [
    "- implementing method ``binarySearch`` requires passing: i) $C$ of integers; ii) value ``left=0`` (leftmost $E$ in the $C$); iii) value ``right`` would be the length of the $C$ minus one (index of the rightmost $E$ in the $C$) and; iv) $t$ [1]\n",
    "\n",
    "```java\n",
    "static int binarySearch(int a[], int left, int right, int target){\n",
    "```"
   ]
  },
  {
   "cell_type": "markdown",
   "metadata": {},
   "source": [
    "- similar to the iterative approach checking if the ``right`` index/position is greater than or equal to the ``left`` index/position with the last iteration run being the ``right`` index/position equaling the ``left`` index/position (one $E$ left in the partition which is created by binary search) [1]\n",
    "\n",
    "```java\n",
    "static int binarySearch(int a[], int left, int right, int target){\n",
    "    if (right>=left){\n",
    "```"
   ]
  },
  {
   "cell_type": "markdown",
   "metadata": {},
   "source": [
    "- as before calculating the middle index $m$ to determine the midpoint [1]\n",
    "\n",
    "```java\n",
    "static int binarySearch(int a[], int left, int right, int target){\n",
    "    if (right>=left){\n",
    "        int m==(left+right)/2\n",
    "```"
   ]
  },
  {
   "cell_type": "markdown",
   "metadata": {},
   "source": [
    "- if the $C$ $E$ at $[\\space m\\space ]$ is equal to the $t$ then return $[\\space m\\space]$ which is the $[\\space t\\space ]$ [1]\n",
    "\n",
    "```java\n",
    "static int binarySearch(int a[], int left, int right, int target){\n",
    "    if (right>=left){\n",
    "        int m==(left+right)/2\n",
    "        if (a[m]==target){\n",
    "            return m; // index/position target exist\n",
    "        }\n",
    "```"
   ]
  },
  {
   "cell_type": "markdown",
   "metadata": {},
   "source": [
    "- if the $E$ at $[\\space m\\space ]$ in the $C$ is greater than the $t$ then the $t$ could only be present in the left-hand portion of the subarray - making a recursive call to ``binarySearch`` again this time passing in the parameters: i) $C$; ii) current value of ``left`` from before; iii) value of ``right`` replaced by $m-1$ because its known that everything at $[\\space m\\space ]$ and to the right is greater than the $t$ therefore everything to the left of the $[\\space m\\space ]$ is less than the $t$ therefore subtracting one from the $[\\space m\\space ]$ is passed in as the new value for the ``right`` index/position in the subarray and; iv) $t$ again [1]\n",
    "\n",
    "```java\n",
    "static int binarySearch(int a[], int left, int right, int target){\n",
    "    if (right>=left){\n",
    "        int m==(left+right)/2\n",
    "        if (a[m]==target){\n",
    "            return m; // index/position target exist\n",
    "        }\n",
    "        // target < a[m] can only in the left subarray\n",
    "        else if (a[m]>target){\n",
    "            return binarySearch(a,left,m-1,target);\n",
    "        }\n",
    "```"
   ]
  },
  {
   "cell_type": "markdown",
   "metadata": {},
   "source": [
    "- else $t$ can only be present in the right subarray replacing the leftmost $E$ in $[\\space m\\space ]$ keeping ``right`` as it is and passing $t$ again[1]\n",
    "\n",
    "```java\n",
    "static int binarySearch(int a[], int left, int right, int target){\n",
    "    if (right>=left){\n",
    "        int m==(left+right)/2\n",
    "        if (a[m]==target){\n",
    "            return m; // index/position target exist\n",
    "        }\n",
    "        // target < a[m] can only in the left subarray\n",
    "        else if (a[m]>target){\n",
    "            return binarySearch(a,left,m-1,target);\n",
    "        }\n",
    "        else{\n",
    "            return binarySearch(a,m+1,right,target);\n",
    "        }\n",
    "```"
   ]
  },
  {
   "cell_type": "markdown",
   "metadata": {},
   "source": [
    "- one of the base cases could be ``right`` is equal to ``left`` (ending up with a partition of size one under consideration) - if ``right`` is not equal equal to ``left`` (value ``left`` becomes less than the value ``right``) then reached the base case - base case will return minus one where $t$ does not exist - the other base cases in the recursion would be where the first if statement returns ``True`` [1] \n",
    "\n",
    "```java\n",
    "static int binarySearch(int a[], int left, int right, int target){\n",
    "    if (right>=left){\n",
    "        int m==(left+right)/2\n",
    "        if (a[m]==target){\n",
    "            return m; // index/position target exist\n",
    "        }\n",
    "        // target < a[m] can only in the left subarray\n",
    "        else if (a[m]>target){\n",
    "            return binarySearch(a,left,m-1,target);\n",
    "        }\n",
    "        else{\n",
    "            return binarySearch(a,m+1,right,target);\n",
    "        }\n",
    "    return -1; // target not exist\n",
    "```"
   ]
  },
  {
   "cell_type": "code",
   "execution_count": 1,
   "metadata": {},
   "outputs": [],
   "source": [
    "exit()"
   ]
  },
  {
   "cell_type": "markdown",
   "metadata": {},
   "source": [
    "***\n",
    "## END"
   ]
  },
  {
   "cell_type": "markdown",
   "metadata": {},
   "source": [
    "< [Table of Contents](#top) | [Abstract](#abstract) | [Introduction](#introduction) | [Solution](#solution) | [References](#references) >\n",
    "<a id=\"conclusion\"></a>\n",
    "***\n",
    "## Conclusion\n",
    "***"
   ]
  },
  {
   "cell_type": "markdown",
   "metadata": {},
   "source": [
    "- linear search has got linear $n$ time complexity whereas binary search has got logarithmic $log\\space n$ time complexity so on average binary search should be better than linear search [1] "
   ]
  },
  {
   "cell_type": "markdown",
   "metadata": {},
   "source": [
    "- for large $C$ binary search is far more efficient than linear search however one drawback is that binary search requires that the $C$ is sorted before time however if the $C$ is sorted then binary search could be 100 times faster on a $C$ of $n=1000$ neglecting constants and if scaling that up by looking at a $C$ of $n=1000000$ would expect the binary search will be approximately be 50000 times faster on average when neglecting constant factors hence a significant improvement in performance [1]"
   ]
  },
  {
   "cell_type": "markdown",
   "metadata": {},
   "source": [
    "- linear search might be okay when searching a small $C$ of ten or twenty or even maybe 50 $E$ - if looking at large $C$ then obviously binary search would be the way to go if it can be guaranteed that the data is going to be sorted according to some definition or comparative function [1]"
   ]
  },
  {
   "cell_type": "markdown",
   "metadata": {},
   "source": [
    "- significant improvement can be made if the correct algorithm is chosen for the correct type of $n$ and of course these kind of significant improvements in performance are really what makes studying and analysing algorithms worthwhile [1]"
   ]
  },
  {
   "cell_type": "markdown",
   "metadata": {},
   "source": [
    "***\n",
    "## END"
   ]
  },
  {
   "cell_type": "markdown",
   "metadata": {},
   "source": [
    "< [Table of Contents](#top) | [Abstract](#abstract) | [Introduction](#introduction) | [Solution](#solution) | [Conclusion](#conclusion) | [References](#references) >\n",
    "<a id=\"references\"></a>\n",
    "***\n",
    "## References\n",
    "***\n",
    "&nbsp;&nbsp;&nbsp;&nbsp;&nbsp;&nbsp;&nbsp;&nbsp;&nbsp;[1] P. Mannion, \"10 Search Algorithms,\" GMIT, December 2017.\n",
    "\n",
    "&nbsp;&nbsp;&nbsp;&nbsp;&nbsp;&nbsp;&nbsp;&nbsp;&nbsp;[2] D. Carr, \"CTA - Week 3 - Linear Search,\" GMIT, February 2021.\n",
    "\n",
    "&nbsp;&nbsp;&nbsp;&nbsp;&nbsp;&nbsp;&nbsp;&nbsp;&nbsp;[3] D. Carr, \"CTA - Week 3 - Binary Search,\" GMIT, February 2021."
   ]
  },
  {
   "cell_type": "markdown",
   "metadata": {},
   "source": [
    "***\n",
    "## END"
   ]
  },
  {
   "cell_type": "markdown",
   "metadata": {},
   "source": [
    "< [Table of Contents](#top) | [Abstract](#abstract) | [Introduction](#introduction) | [Solution](#solution) | [Conclusion](#conclusion) | [References](#references) >\n",
    "<a id=\"appendix\"></a>\n",
    "***\n",
    "## Appendix\n",
    "***"
   ]
  },
  {
   "cell_type": "markdown",
   "metadata": {},
   "source": [
    "&#x1F6A7;"
   ]
  },
  {
   "cell_type": "markdown",
   "metadata": {},
   "source": [
    "<a id=\"appendix-some-reference\"></a>\n",
    "< [Go Back](#top) >"
   ]
  },
  {
   "cell_type": "markdown",
   "metadata": {},
   "source": [
    "⚡"
   ]
  },
  {
   "cell_type": "markdown",
   "metadata": {},
   "source": [
    "```python\n",
    "# %%writefile -a ../src/fubar.py\n",
    "# repository ./fubar-python\n",
    "def f():\n",
    "    \"\"\"\n",
    "\n",
    "Input:\n",
    "Process:\n",
    "Output:\n",
    "\"\"\"\n",
    "    pass\n",
    "# -- END ---\n",
    "```"
   ]
  },
  {
   "cell_type": "markdown",
   "metadata": {},
   "source": [
    "***\n",
    "## END"
   ]
  },
  {
   "cell_type": "markdown",
   "metadata": {},
   "source": [
    "# END JUPYTER NOTEBOOK"
   ]
  }
 ],
 "metadata": {
  "kernelspec": {
   "display_name": "Python 3",
   "language": "python",
   "name": "python3"
  },
  "language_info": {
   "codemirror_mode": {
    "name": "ipython",
    "version": 3
   },
   "file_extension": ".py",
   "mimetype": "text/x-python",
   "name": "python",
   "nbconvert_exporter": "python",
   "pygments_lexer": "ipython3",
   "version": "3.8.5"
  }
 },
 "nbformat": 4,
 "nbformat_minor": 5
}
